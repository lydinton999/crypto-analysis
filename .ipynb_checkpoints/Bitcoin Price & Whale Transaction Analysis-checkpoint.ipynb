{
 "cells": [
  {
   "cell_type": "markdown",
   "id": "9ea1e09a",
   "metadata": {},
   "source": [
    "# Mission Statement"
   ]
  },
  {
   "cell_type": "markdown",
   "id": "6e2a3c21",
   "metadata": {},
   "source": [
    "## Data Mining and Extraction"
   ]
  },
  {
   "cell_type": "markdown",
   "id": "74c63b43",
   "metadata": {},
   "source": [
    "## Data Cleaning and Transformation (SQL Server)"
   ]
  },
  {
   "cell_type": "markdown",
   "id": "053336aa",
   "metadata": {},
   "source": [
    "## Data Analysis"
   ]
  },
  {
   "cell_type": "markdown",
   "id": "3d397129",
   "metadata": {},
   "source": [
    "## Data Visualization"
   ]
  },
  {
   "cell_type": "code",
   "execution_count": null,
   "id": "6d05e615",
   "metadata": {},
   "outputs": [],
   "source": []
  }
 ],
 "metadata": {
  "kernelspec": {
   "display_name": "Python 3 (ipykernel)",
   "language": "python",
   "name": "python3"
  },
  "language_info": {
   "codemirror_mode": {
    "name": "ipython",
    "version": 3
   },
   "file_extension": ".py",
   "mimetype": "text/x-python",
   "name": "python",
   "nbconvert_exporter": "python",
   "pygments_lexer": "ipython3",
   "version": "3.10.4"
  }
 },
 "nbformat": 4,
 "nbformat_minor": 5
}
